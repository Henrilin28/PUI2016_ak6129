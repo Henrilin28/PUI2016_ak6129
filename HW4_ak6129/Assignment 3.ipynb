{
 "cells": [
  {
   "cell_type": "code",
   "execution_count": 8,
   "metadata": {
    "collapsed": false
   },
   "outputs": [
    {
     "name": "stdout",
     "output_type": "stream",
     "text": [
      "Populating the interactive namespace from numpy and matplotlib\n",
      "the Null holds\n"
     ]
    }
   ],
   "source": [
    "import os\n",
    "import sys\n",
    "import numpy as np\n",
    "import pylab as pl\n",
    "import json\n",
    "import os\n",
    "\n",
    "%pylab inline\n",
    "\n",
    "\n",
    "#Null hypothesis: the % of former prisoners convicted of a felony after 1-3 years (residivism) is the same\n",
    "#or lower for former prisoners who participated in the program as for the control group. \n",
    "#H0: P0 - P1 >= 0\n",
    "#Ha: P0 - P1 < 0\n",
    "\n",
    "alpha=0.05\n",
    "\n",
    "P_0 = 11.7*0.01 \n",
    "P_1 = 10.0*0.01\n",
    "\n",
    "if P_0-P_1 >= 0:\n",
    "    print (\"the Null holds\")\n",
    "else:\n",
    "    print (\"we must assess the statistical significance\")\n",
    "\n",
    "n_0 = 409\n",
    "n_1 = 568\n",
    "\n",
    "\n",
    "Nt_0 = P_0 * n_0\n",
    "Nt_1 = P_1 * n_1"
   ]
  },
  {
   "cell_type": "code",
   "execution_count": 9,
   "metadata": {
    "collapsed": false
   },
   "outputs": [
    {
     "name": "stdout",
     "output_type": "stream",
     "text": [
      "0.107116683726\n"
     ]
    }
   ],
   "source": [
    "sp = (P_0 * n_0 + P_1 * n_1) / (n_1 + n_0)\n",
    "print (sp)"
   ]
  },
  {
   "cell_type": "code",
   "execution_count": 10,
   "metadata": {
    "collapsed": false
   },
   "outputs": [
    {
     "name": "stdout",
     "output_type": "stream",
     "text": [
      "(0.11699999999999999, 409, 568, 0.020055679161170879)\n"
     ]
    }
   ],
   "source": [
    "sp_stdev = lambda p, n: np.sqrt( p * ( 1 - p ) / n[0] +  p * ( 1 - p ) / n[1]  )\n",
    "\n",
    "sp_stdev_2y = sp_stdev(( Nt_0 + Nt_1) / (n_0 + n_1), [n_0, n_1])\n",
    "print (P_0, n_0, n_1, sp_stdev_2y)"
   ]
  },
  {
   "cell_type": "code",
   "execution_count": 11,
   "metadata": {
    "collapsed": false
   },
   "outputs": [
    {
     "name": "stdout",
     "output_type": "stream",
     "text": [
      "-0.84764020522\n"
     ]
    }
   ],
   "source": [
    "zscore = lambda p0, p1, s : (p0 - p1) / s\n",
    "z_2y = zscore(P_1, P_0, sp_stdev_2y)\n",
    "print (z_2y)"
   ]
  },
  {
   "cell_type": "code",
   "execution_count": 17,
   "metadata": {
    "collapsed": true
   },
   "outputs": [],
   "source": [
    "p_2y = 1 - 0.7995"
   ]
  },
  {
   "cell_type": "code",
   "execution_count": 18,
   "metadata": {
    "collapsed": false
   },
   "outputs": [
    {
     "name": "stdout",
     "output_type": "stream",
     "text": [
      "is the p value 0.20 smaller than the critical value 0.05? \n",
      "NO!\n",
      "the Null hypothesis is not rejected\n"
     ]
    }
   ],
   "source": [
    "def report_result(p,a):\n",
    "    print ('is the p value {0:.2f} smaller than the critical value {1:.2f}? '.format(p,a))\n",
    "    if p < a:\n",
    "        print (\"YES!\")\n",
    "    else: \n",
    "        print (\"NO!\")\n",
    "    \n",
    "    print ('the Null hypothesis is {}'.format( 'rejected' if p < a  else 'not rejected') )\n",
    "\n",
    "    \n",
    "report_result(p_2y,alpha)"
   ]
  },
  {
   "cell_type": "code",
   "execution_count": 14,
   "metadata": {
    "collapsed": false
   },
   "outputs": [
    {
     "name": "stdout",
     "output_type": "stream",
     "text": [
      "0.71851451456\n"
     ]
    }
   ],
   "source": [
    "chisqstat= lambda N, values, expect_num : ((values[0][0] * values[1][1]\n",
    "                                            -values[0][1] * values[1][0])**2) * N / expect_num\n",
    "Ntot = 977 # a + b + c + d = tot\n",
    "expected_num = 568 * 409 * 872.347 * 104.65\n",
    "sample_values = [[0.1 * 568, 0.9 * 568], [0.117 * 409, 0.883 * 409]]\n",
    " \n",
    "\n",
    "print (chisqstat(Ntot,  sample_values, expected_num))"
   ]
  },
  {
   "cell_type": "markdown",
   "metadata": {},
   "source": [
    "|convicted of a felony|convicted|not convicted|\n",
    "|:-------------------:|:------:|:----------:|\n",
    "|test sample|0.1*568|0.9*568|568|\n",
    "|control sample|0.117*409|0.883*409|409|\n",
    "|\n",
    "|Total|104.65|872.347|977|\n"
   ]
  },
  {
   "cell_type": "markdown",
   "metadata": {},
   "source": [
    "0.718 is smaller than 3.84 and we don't reject the Null hypothesis"
   ]
  }
 ],
 "metadata": {
  "kernelspec": {
   "display_name": "PUI2016_Python2",
   "language": "python",
   "name": "pui2016_python2"
  },
  "language_info": {
   "codemirror_mode": {
    "name": "ipython",
    "version": 2
   },
   "file_extension": ".py",
   "mimetype": "text/x-python",
   "name": "python",
   "nbconvert_exporter": "python",
   "pygments_lexer": "ipython2",
   "version": "2.7.12"
  }
 },
 "nbformat": 4,
 "nbformat_minor": 0
}
