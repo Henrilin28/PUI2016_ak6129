{
 "cells": [
  {
   "cell_type": "markdown",
   "metadata": {},
   "source": [
    "Do diets help lose more fat than the exercise?\n",
    "\n",
    "H0: diets help to lose less or equal fat as exercise. \n",
    "\n",
    "Ha: diets help to lose more fat than exercise. \n",
    "\n",
    "significance level = 0.5 \n",
    "\n",
    "H0: p <= 0.5\n",
    "\n",
    "Ha: p > 0.5"
   ]
  },
  {
   "cell_type": "markdown",
   "metadata": {},
   "source": [
    "Do American trust the president?\n",
    "\n",
    "POLL RESULTS: On May 16, 1994, Newsweek reported the results of a public opinion poll that asked: \n",
    "“From everything you know about Bill Clinton, does he have the honesty and integrity you expect in a president?” (p. 23). Poll surveyed 518 adults and 233, or 0.45 of them answered yes\n",
    "\n",
    "H0: Less or equal number of Americans from survey trust the president.\n",
    "\n",
    "Ha: Number of Americans, according to survey, who trust the president is significantly more than number of Americans who don't trust him.\n",
    "significance level = 0.5\n",
    "\n",
    "H0: p <= 0.5\n",
    "\n",
    "Ha: p > 0.5"
   ]
  },
  {
   "cell_type": "markdown",
   "metadata": {},
   "source": [
    "Effectiveness of nicotine patches to quit smoking.\n",
    "Experimental setup: measure cessation rates for smokers randomly assigned to use a nicotine patch versus a placebo patch.\n",
    "\n",
    "H0: Effectivness of nicotine pathes to quit smoking is less or equal to effectivness of placebo patch.\n",
    "\n",
    "Ha: Effectivness of nicotine patches is significanlty more than effectivness of placebo patch.\n",
    "significnce level 0.5\n",
    "\n",
    "H0: p <= 0.5\n",
    "\n",
    "Ha: p > 0.5"
   ]
  },
  {
   "cell_type": "markdown",
   "metadata": {},
   "source": [
    "Experimemtal setup: measure IQ of children at ages 1, 2, 3, and 4 years of age.\n",
    "Quantify the danger of smoking for pregnant women.\n",
    "\n",
    "H0: Smoking of pregnant women is less danger for children at ages 1 to 4. \n",
    "\n",
    "Ha: Smoking of pregnant women is significantly danger for children ages 1 to 4. \n",
    "Significance level 0.5\n",
    "\n",
    "H0: p <= .5\n",
    "Ha p > .5"
   ]
  }
 ],
 "metadata": {
  "kernelspec": {
   "display_name": "PUI2016_Python2",
   "language": "python",
   "name": "pui2016_python2"
  },
  "language_info": {
   "codemirror_mode": {
    "name": "ipython",
    "version": 2
   },
   "file_extension": ".py",
   "mimetype": "text/x-python",
   "name": "python",
   "nbconvert_exporter": "python",
   "pygments_lexer": "ipython2",
   "version": "2.7.12"
  }
 },
 "nbformat": 4,
 "nbformat_minor": 0
}
